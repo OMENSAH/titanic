{
 "cells": [
  {
   "cell_type": "markdown",
   "metadata": {},
   "source": [
    "# Installing libraris"
   ]
  },
  {
   "cell_type": "code",
   "execution_count": 31,
   "metadata": {},
   "outputs": [],
   "source": [
    "# !pip3 install pymysql\n",
    "# !pip3 install pandas"
   ]
  },
  {
   "cell_type": "code",
   "execution_count": 55,
   "metadata": {},
   "outputs": [],
   "source": [
    "#import  \n",
    "import pymysql\n",
    "import os\n",
    "import pandas as  pd"
   ]
  },
  {
   "cell_type": "code",
   "execution_count": 56,
   "metadata": {},
   "outputs": [],
   "source": [
    "# Connection details\n",
    "\n",
    "cnx= {'host': 'localhost',\n",
    "      'username': 'root',\n",
    "      'password': '',\n",
    "      'db': 'titanic'\n",
    "} "
   ]
  },
  {
   "cell_type": "markdown",
   "metadata": {},
   "source": [
    "#  Extracting Training dat\n"
   ]
  },
  {
   "cell_type": "code",
   "execution_count": 57,
   "metadata": {},
   "outputs": [],
   "source": [
    "# file path\n",
    "raw_data_path = os.path.join(os.path.pardir,'data','raw')\n",
    "train_data_path = os.path.join(raw_data_path, 'train.csv')\n",
    "test_data_path = os.path.join(raw_data_path, 'test.csv')\n",
    "\n",
    "def getData(query, path):\n",
    "    # open connection\n",
    "    connection = pymysql.connect(cnx['host'],cnx['username'],cnx['password'],cnx['db'] )\n",
    "    # open cursor\n",
    "    cursor = connection.cursor()\n",
    "    df = pd.read_sql_query(query, connection)\n",
    "\n",
    "    with open(path, 'w') as handle:\n",
    "        if len(df) > 0:\n",
    "            df.to_csv(handle, header=True)\n",
    "        else:\n",
    "            print(\"err\")   \n",
    "    # Clean up\n",
    "    cursor.close()\n",
    "    connection.close()\n",
    "#train data \n",
    "getData(\"SELECT * FROM train\", train_data_path)\n",
    "#test data\n",
    "getData(\"SELECT * FROM test\", test_data_path)"
   ]
  },
  {
   "cell_type": "markdown",
   "metadata": {},
   "source": [
    "# Building Script"
   ]
  },
  {
   "cell_type": "code",
   "execution_count": 58,
   "metadata": {},
   "outputs": [],
   "source": [
    "get_raw_data_script = os.path.join(os.path.pardir, \"src\", \"data\", \"get_raw_data.py\")"
   ]
  },
  {
   "cell_type": "code",
   "execution_count": 59,
   "metadata": {},
   "outputs": [
    {
     "name": "stdout",
     "output_type": "stream",
     "text": [
      "Writing ../src/data/get_raw_data.py\n"
     ]
    }
   ],
   "source": [
    "%%writefile $get_raw_data_script\n",
    "#install libraries\n",
    "!pip3 install pymysql\n",
    "!pip3 install pandas\n",
    "\n",
    "#import libraries\n",
    "import pymysql\n",
    "import os\n",
    "import pandas as  pd \n",
    "import logging\n",
    "\n",
    "# Database Connection details\n",
    "\n",
    "cnx= {'host': 'localhost',\n",
    "      'username': 'root',\n",
    "      'password': '',\n",
    "      'db': 'titanic'\n",
    "} \n",
    "\n",
    "def getData(query, path):\n",
    "    # open connection\n",
    "    connection = pymysql.connect(cnx['host'],cnx['username'],cnx['password'],cnx['db'] )\n",
    "    # open cursor\n",
    "    cursor = connection.cursor()\n",
    "    df = pd.read_sql_query(query, connection)\n",
    "\n",
    "    with open(path, 'w') as handle:\n",
    "        if len(df) > 0:\n",
    "            df.to_csv(handle, header=True)\n",
    "        else:\n",
    "            print(\"err\")   \n",
    "    # Clean up\n",
    "    cursor.close()\n",
    "    connection.close()\n",
    "\n",
    "    \n",
    "                \n",
    "def main(project_dir):\n",
    "    # get logger\n",
    "    logger = logging.getLogger(__name__)\n",
    "    logger.info('getting raw data')\n",
    "   \n",
    "    # file path\n",
    "    raw_data_path = os.path.join(project_dir,'data','raw')\n",
    "    train_data_path = os.path.join(raw_data_path, 'train.csv')\n",
    "    test_data_path = os.path.join(raw_data_path, 'test.csv')\n",
    "\n",
    "    # extract train  and test data \n",
    "    getData(\"SELECT * FROM train\", train_data_path)\n",
    "    getData(\"SELECT * FROM test\", test_data_path)\n",
    "\n",
    "\n",
    "if __name__ == '__main__':\n",
    "    # getting root directory\n",
    "    project_dir = os.path.join(os.path.dirname(__file__), os.pardir, os.pardir)\n",
    "    \n",
    "    # setup logger\n",
    "    log_fmt = '%(asctime)s - %(name)s - %(levelname)s - %(message)s'\n",
    "    logging.basicConfig(level=logging.INFO, format=log_fmt)\n",
    "\n",
    "    # call the main\n",
    "    main(project_dir)\n",
    "\n",
    "\n",
    "\n"
   ]
  },
  {
   "cell_type": "code",
   "execution_count": null,
   "metadata": {},
   "outputs": [],
   "source": []
  }
 ],
 "metadata": {
  "kernelspec": {
   "display_name": "Python 3",
   "language": "python",
   "name": "python3"
  },
  "language_info": {
   "codemirror_mode": {
    "name": "ipython",
    "version": 3
   },
   "file_extension": ".py",
   "mimetype": "text/x-python",
   "name": "python",
   "nbconvert_exporter": "python",
   "pygments_lexer": "ipython3",
   "version": "3.6.5"
  }
 },
 "nbformat": 4,
 "nbformat_minor": 2
}
